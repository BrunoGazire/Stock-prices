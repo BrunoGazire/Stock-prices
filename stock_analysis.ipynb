{
 "cells": [
  {
   "cell_type": "code",
   "execution_count": 1,
   "id": "8af36b0d",
   "metadata": {},
   "outputs": [],
   "source": [
    "#importing Lybraries \n",
    "import numpy as np\n",
    "import pandas as pd\n",
    "import datetime as dt\n",
    "import pandas_datareader as pdr"
   ]
  },
  {
   "cell_type": "code",
   "execution_count": 38,
   "id": "2c8a0f59",
   "metadata": {},
   "outputs": [],
   "source": [
    "def getInput():\n",
    "    option = int(input())\n",
    "    return option\n",
    "        \n",
    "def getStock():\n",
    "    stk = str(input(\"Pelase type the stock here: \"))\n",
    "    limit = int(input(\"Please enter the number of days for analysis: \"))\n",
    "    end = dt.datetime.now()\n",
    "    start = end + dt.timedelta(days=-limit)\n",
    "    df = pdr.get_data_yahoo(stk, start, end)\n",
    "    return df\n",
    "\n",
    "def getChanges(df):\n",
    "    df_1 = df[[\"Close\", \"Volume\"]]\n",
    "    df_volume = df[[\"Volume\"]].pct_change(axis=0).replace(np.nan,0)\n",
    "    df_close = df[[\"Close\"]].pct_change(axis=0).replace(np.nan,0)\n",
    "    df_1[\"Volume % Change\"] = df_volume\n",
    "    df_1[\"Close % Change\"] = df_close\n",
    "    print(df)\n",
    "    print(df_1)\n",
    "\n",
    "def welcome():\n",
    "    print(\"\\n-------------------------------------------------------\")\n",
    "    print(\"\\nStock Report Menu Options\")\n",
    "    print(\"\\n-------------------------------------------------------\")\n",
    "    print(\"1. Report changes for a stock\")\n",
    "    print(\"2. Quit\")\n",
    "    \n",
    "       \n",
    "def starter():\n",
    "    welcome()\n",
    "    option = getInput()\n",
    "    while option == 1:\n",
    "        getChanges(getStock())\n",
    "        welcome()\n",
    "        option = getInput()\n",
    "        if option == 2:\n",
    "            break\n",
    "        \n",
    "    \n",
    "    \n",
    "    "
   ]
  },
  {
   "cell_type": "code",
   "execution_count": 39,
   "id": "6f4128a8",
   "metadata": {},
   "outputs": [
    {
     "name": "stdout",
     "output_type": "stream",
     "text": [
      "\n",
      "-------------------------------------------------------\n",
      "\n",
      "Stock Report Menu Options\n",
      "\n",
      "-------------------------------------------------------\n",
      "1. Report changes for a stock\n",
      "2. Quit\n",
      "1\n",
      "Pelase type the stock here: aapl\n",
      "Please enter the number of days for analysis: 5\n"
     ]
    },
    {
     "name": "stderr",
     "output_type": "stream",
     "text": [
      "<ipython-input-38-89d29d7e9242>:17: SettingWithCopyWarning: \n",
      "A value is trying to be set on a copy of a slice from a DataFrame.\n",
      "Try using .loc[row_indexer,col_indexer] = value instead\n",
      "\n",
      "See the caveats in the documentation: https://pandas.pydata.org/pandas-docs/stable/user_guide/indexing.html#returning-a-view-versus-a-copy\n",
      "  df_1[\"Volume % Change\"] = df_volume\n",
      "<ipython-input-38-89d29d7e9242>:18: SettingWithCopyWarning: \n",
      "A value is trying to be set on a copy of a slice from a DataFrame.\n",
      "Try using .loc[row_indexer,col_indexer] = value instead\n",
      "\n",
      "See the caveats in the documentation: https://pandas.pydata.org/pandas-docs/stable/user_guide/indexing.html#returning-a-view-versus-a-copy\n",
      "  df_1[\"Close % Change\"] = df_close\n"
     ]
    },
    {
     "name": "stdout",
     "output_type": "stream",
     "text": [
      "                  High         Low        Open       Close    Volume  \\\n",
      "Date                                                                   \n",
      "2022-06-29  140.669998  136.669998  137.460007  139.229996  66242400   \n",
      "2022-06-30  138.369995  133.770004  137.250000  136.720001  98964500   \n",
      "2022-07-01  139.039993  135.660004  136.039993  138.929993  71007500   \n",
      "\n",
      "             Adj Close  \n",
      "Date                    \n",
      "2022-06-29  139.229996  \n",
      "2022-06-30  136.720001  \n",
      "2022-07-01  138.929993  \n",
      "                 Close    Volume  Volume % Change  Close % Change\n",
      "Date                                                             \n",
      "2022-06-29  139.229996  66242400         0.000000        0.000000\n",
      "2022-06-30  136.720001  98964500         0.493975       -0.018028\n",
      "2022-07-01  138.929993  71007500        -0.282495        0.016164\n",
      "\n",
      "-------------------------------------------------------\n",
      "\n",
      "Stock Report Menu Options\n",
      "\n",
      "-------------------------------------------------------\n",
      "1. Report changes for a stock\n",
      "2. Quit\n",
      "2\n"
     ]
    }
   ],
   "source": [
    "starter()"
   ]
  },
  {
   "cell_type": "code",
   "execution_count": null,
   "id": "e959b630",
   "metadata": {},
   "outputs": [],
   "source": []
  },
  {
   "cell_type": "code",
   "execution_count": null,
   "id": "9976b2eb",
   "metadata": {},
   "outputs": [],
   "source": []
  },
  {
   "cell_type": "code",
   "execution_count": null,
   "id": "6176a4f1",
   "metadata": {},
   "outputs": [],
   "source": []
  },
  {
   "cell_type": "code",
   "execution_count": null,
   "id": "53062291",
   "metadata": {},
   "outputs": [],
   "source": []
  },
  {
   "cell_type": "code",
   "execution_count": null,
   "id": "164accfa",
   "metadata": {},
   "outputs": [],
   "source": []
  },
  {
   "cell_type": "code",
   "execution_count": null,
   "id": "0276d09b",
   "metadata": {},
   "outputs": [],
   "source": []
  },
  {
   "cell_type": "code",
   "execution_count": null,
   "id": "686bd454",
   "metadata": {},
   "outputs": [],
   "source": [
    "\n"
   ]
  },
  {
   "cell_type": "code",
   "execution_count": null,
   "id": "6a0da1d7",
   "metadata": {},
   "outputs": [],
   "source": []
  },
  {
   "cell_type": "code",
   "execution_count": null,
   "id": "fca6715c",
   "metadata": {},
   "outputs": [],
   "source": []
  },
  {
   "cell_type": "code",
   "execution_count": null,
   "id": "2b350bc6",
   "metadata": {},
   "outputs": [],
   "source": []
  },
  {
   "cell_type": "code",
   "execution_count": null,
   "id": "9bbb9fa8",
   "metadata": {},
   "outputs": [],
   "source": []
  },
  {
   "cell_type": "code",
   "execution_count": null,
   "id": "a4c878db",
   "metadata": {},
   "outputs": [],
   "source": []
  },
  {
   "cell_type": "code",
   "execution_count": null,
   "id": "2bc04e91",
   "metadata": {},
   "outputs": [],
   "source": []
  },
  {
   "cell_type": "code",
   "execution_count": null,
   "id": "ee4d5552",
   "metadata": {},
   "outputs": [],
   "source": []
  },
  {
   "cell_type": "code",
   "execution_count": null,
   "id": "b6b257d3",
   "metadata": {},
   "outputs": [],
   "source": []
  },
  {
   "cell_type": "code",
   "execution_count": null,
   "id": "3e11044c",
   "metadata": {},
   "outputs": [],
   "source": []
  },
  {
   "cell_type": "code",
   "execution_count": null,
   "id": "4d3ee48e",
   "metadata": {},
   "outputs": [],
   "source": []
  },
  {
   "cell_type": "code",
   "execution_count": null,
   "id": "1fdde6d5",
   "metadata": {},
   "outputs": [],
   "source": []
  },
  {
   "cell_type": "code",
   "execution_count": null,
   "id": "513dc371",
   "metadata": {},
   "outputs": [],
   "source": []
  }
 ],
 "metadata": {
  "kernelspec": {
   "display_name": "Python 3",
   "language": "python",
   "name": "python3"
  },
  "language_info": {
   "codemirror_mode": {
    "name": "ipython",
    "version": 3
   },
   "file_extension": ".py",
   "mimetype": "text/x-python",
   "name": "python",
   "nbconvert_exporter": "python",
   "pygments_lexer": "ipython3",
   "version": "3.8.8"
  }
 },
 "nbformat": 4,
 "nbformat_minor": 5
}
